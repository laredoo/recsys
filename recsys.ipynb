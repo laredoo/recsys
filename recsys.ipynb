{
 "cells": [
  {
   "cell_type": "markdown",
   "metadata": {},
   "source": [
    "# Recsys"
   ]
  },
  {
   "cell_type": "code",
   "execution_count": 3,
   "metadata": {},
   "outputs": [],
   "source": [
    "from typing import List, Dict\n",
    "from collections import defaultdict\n",
    "\n",
    "def get_recommendations(self, input_songs: List[str], n_recommendations: int = 5) -> tuple[List[Dict], Dict]:\n",
    "        \"\"\"\n",
    "        Get song recommendations based on input songs.\n",
    "        Returns recommendations and their explanations.\n",
    "        \"\"\"\n",
    "        input_songs_set = frozenset(input_songs)\n",
    "        recommendations = defaultdict(lambda: {'confidence': 0.0, 'support': 0.0})\n",
    "        explanations = defaultdict(list)\n",
    "        \n",
    "        # Filter rules where antecedent is a subset of input_songs\n",
    "        for _, rule in self.rules_df.iterrows():\n",
    "            antecedent = rule['antecedent']\n",
    "            if antecedent.issubset(input_songs_set):\n",
    "                consequent = rule['consequent']\n",
    "                consequent_item = next(iter(consequent))  # Get the single song\n",
    "                \n",
    "                if consequent_item not in input_songs_set:\n",
    "                    # Update if we found a rule with higher confidence\n",
    "                    if rule['confidence'] > recommendations[consequent_item]['confidence']:\n",
    "                        recommendations[consequent_item] = {\n",
    "                            'confidence': rule['confidence'],\n",
    "                            'support': rule.get('support', 0.0)  # If you stored support\n",
    "                        }\n",
    "                        \n",
    "                        # Store explanation\n",
    "                        explanations[consequent_item].append({\n",
    "                            'based_on': list(antecedent),\n",
    "                            'confidence': rule['confidence'],\n",
    "                            'support': rule.get('support', 0.0)\n",
    "                        })\n",
    "        \n",
    "        # Sort recommendations by confidence\n",
    "        sorted_recommendations = [\n",
    "            {'song': song, **metrics}\n",
    "            for song, metrics in recommendations.items()\n",
    "        ]\n",
    "        sorted_recommendations.sort(key=lambda x: x['confidence'], reverse=True)\n",
    "        \n",
    "        return sorted_recommendations[:n_recommendations], explanations\n"
   ]
  },
  {
   "cell_type": "code",
   "execution_count": null,
   "metadata": {},
   "outputs": [
    {
     "data": {
      "text/plain": [
       "defaultdict(<function __main__.<lambda>()>, {})"
      ]
     },
     "execution_count": 8,
     "metadata": {},
     "output_type": "execute_result"
    }
   ],
   "source": [
    "recommendations = defaultdict(lambda: {'confidence': 0.0, 'support': 0.0})"
   ]
  },
  {
   "cell_type": "code",
   "execution_count": null,
   "metadata": {},
   "outputs": [],
   "source": []
  }
 ],
 "metadata": {
  "kernelspec": {
   "display_name": ".venv",
   "language": "python",
   "name": "python3"
  },
  "language_info": {
   "codemirror_mode": {
    "name": "ipython",
    "version": 3
   },
   "file_extension": ".py",
   "mimetype": "text/x-python",
   "name": "python",
   "nbconvert_exporter": "python",
   "pygments_lexer": "ipython3",
   "version": "3.12.3"
  }
 },
 "nbformat": 4,
 "nbformat_minor": 2
}
